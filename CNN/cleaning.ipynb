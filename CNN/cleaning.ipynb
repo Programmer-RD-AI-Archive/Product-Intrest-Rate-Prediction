{
 "cells": [
  {
   "cell_type": "code",
   "execution_count": 1,
   "id": "b41de0f8-0f49-4d17-87f6-ef18ae28e437",
   "metadata": {},
   "outputs": [
    {
     "data": {
      "text/plain": [
       "1666.6666666666667"
      ]
     },
     "execution_count": 1,
     "metadata": {},
     "output_type": "execute_result"
    }
   ],
   "source": [
    "5000/3"
   ]
  },
  {
   "cell_type": "code",
   "execution_count": 2,
   "id": "6e76ab12-0d48-4e2d-9c8e-68ccd6cfd48b",
   "metadata": {},
   "outputs": [
    {
     "data": {
      "text/plain": [
       "1250.0"
      ]
     },
     "execution_count": 2,
     "metadata": {},
     "output_type": "execute_result"
    }
   ],
   "source": [
    "5000/4"
   ]
  },
  {
   "cell_type": "code",
   "execution_count": 3,
   "id": "dbee2fba-8249-4ba4-b84c-c8bb63fee388",
   "metadata": {},
   "outputs": [],
   "source": [
    "no = ['sad','fearful','disgusted','angry']"
   ]
  },
  {
   "cell_type": "code",
   "execution_count": 4,
   "id": "d47a9e65-7a92-4714-9253-5b8989644662",
   "metadata": {},
   "outputs": [],
   "source": [
    "yes = ['happy','neutral','surprised']"
   ]
  },
  {
   "cell_type": "code",
   "execution_count": 10,
   "id": "025d7da9-0c7b-4211-84fc-a983889ff19e",
   "metadata": {},
   "outputs": [],
   "source": [
    "idx = -1"
   ]
  },
  {
   "cell_type": "code",
   "execution_count": 11,
   "id": "304916bb-2626-4fd9-bb95-6fe678c601a0",
   "metadata": {},
   "outputs": [],
   "source": [
    "import cv2\n",
    "import os"
   ]
  },
  {
   "cell_type": "code",
   "execution_count": 12,
   "id": "0a2cb3ba-c5d1-4595-961d-ed267f28857d",
   "metadata": {},
   "outputs": [],
   "source": [
    "from tqdm import tqdm"
   ]
  },
  {
   "cell_type": "code",
   "execution_count": 13,
   "id": "67eae2b2-db95-4251-be34-a944334c7901",
   "metadata": {},
   "outputs": [
    {
     "name": "stderr",
     "output_type": "stream",
     "text": [
      "  0%|          | 0/4 [00:00<?, ?it/s]\n",
      "  0%|          | 0/1500 [00:00<?, ?it/s]\u001b[A\n",
      " 28%|██▊       | 417/1500 [00:00<00:00, 4168.13it/s]\u001b[A\n",
      " 62%|██████▏   | 936/1500 [00:00<00:00, 4767.39it/s]\u001b[A\n",
      "100%|██████████| 1500/1500 [00:00<00:00, 4814.63it/s]\u001b[A\n",
      " 25%|██▌       | 1/4 [00:00<00:00,  3.15it/s]\n",
      "  0%|          | 0/1500 [00:00<?, ?it/s]\u001b[A\n",
      " 34%|███▍      | 510/1500 [00:00<00:00, 5093.87it/s]\u001b[A\n",
      "100%|██████████| 1500/1500 [00:00<00:00, 4905.48it/s]\u001b[A\n",
      " 50%|█████     | 2/4 [00:00<00:00,  3.18it/s]\n",
      "100%|██████████| 436/436 [00:00<00:00, 5015.02it/s]\n",
      "\n",
      "  0%|          | 0/1500 [00:00<?, ?it/s]\u001b[A\n",
      " 33%|███▎      | 500/1500 [00:00<00:00, 4994.22it/s]\u001b[A\n",
      " 67%|██████▋   | 1000/1500 [00:00<00:00, 4916.52it/s]\u001b[A\n",
      "100%|██████████| 1500/1500 [00:00<00:00, 4860.55it/s]\u001b[A\n",
      "100%|██████████| 4/4 [00:01<00:00,  3.85it/s]\n"
     ]
    }
   ],
   "source": [
    "for no_dir in tqdm(no):\n",
    "    for file in tqdm(os.listdir(f'./train/{no_dir}')[:1500]):\n",
    "        try:\n",
    "            idx += 1\n",
    "            img = cv2.imread(f'./train/{no_dir}/{file}')\n",
    "            cv2.imwrite(f'./no_like/{idx}.png',img)\n",
    "        except Exception as e:\n",
    "            print(e)"
   ]
  },
  {
   "cell_type": "code",
   "execution_count": 14,
   "id": "039afe8b-4bd6-412e-aed9-8cd0aaf714e0",
   "metadata": {},
   "outputs": [
    {
     "data": {
      "text/plain": [
       "4935"
      ]
     },
     "execution_count": 14,
     "metadata": {},
     "output_type": "execute_result"
    }
   ],
   "source": [
    "idx"
   ]
  },
  {
   "cell_type": "code",
   "execution_count": 15,
   "id": "95a29862-6b86-4f58-8307-9ce952beeefa",
   "metadata": {},
   "outputs": [],
   "source": [
    "idx = -1"
   ]
  },
  {
   "cell_type": "code",
   "execution_count": 16,
   "id": "947e20a6-6a46-42d0-af49-fc00e060fd5b",
   "metadata": {},
   "outputs": [
    {
     "name": "stderr",
     "output_type": "stream",
     "text": [
      "  0%|          | 0/3 [00:00<?, ?it/s]\n",
      "  0%|          | 0/1666 [00:00<?, ?it/s]\u001b[A\n",
      " 27%|██▋       | 457/1666 [00:00<00:00, 4569.17it/s]\u001b[A\n",
      " 56%|█████▌    | 925/1666 [00:00<00:00, 4630.46it/s]\u001b[A\n",
      "100%|██████████| 1666/1666 [00:00<00:00, 4652.87it/s]\u001b[A\n",
      " 33%|███▎      | 1/3 [00:00<00:00,  2.74it/s]\n",
      "  0%|          | 0/1666 [00:00<?, ?it/s]\u001b[A\n",
      " 29%|██▉       | 487/1666 [00:00<00:00, 4861.46it/s]\u001b[A\n",
      " 58%|█████▊    | 974/1666 [00:00<00:00, 4832.46it/s]\u001b[A\n",
      "100%|██████████| 1666/1666 [00:00<00:00, 4831.37it/s]\u001b[A\n",
      " 67%|██████▋   | 2/3 [00:00<00:00,  2.81it/s]\n",
      "  0%|          | 0/1666 [00:00<?, ?it/s]\u001b[A\n",
      " 27%|██▋       | 452/1666 [00:00<00:00, 4518.07it/s]\u001b[A\n",
      " 56%|█████▌    | 926/1666 [00:00<00:00, 4645.83it/s]\u001b[A\n",
      "100%|██████████| 1666/1666 [00:00<00:00, 4521.27it/s]\u001b[A\n",
      "100%|██████████| 3/3 [00:01<00:00,  2.76it/s]\n"
     ]
    }
   ],
   "source": [
    "for yes_dir in tqdm(yes):\n",
    "    for file in tqdm(os.listdir(f'./train/{yes_dir}')[:1666]):\n",
    "        try:\n",
    "            idx += 1\n",
    "            img = cv2.imread(f'./train/{yes_dir}/{file}')\n",
    "            cv2.imwrite(f'./like/{idx}.png',img)\n",
    "        except Exception as e:\n",
    "            print(e)"
   ]
  },
  {
   "cell_type": "code",
   "execution_count": 18,
   "id": "a811c78c-1d76-4cf0-bfc3-7cdea7ab2517",
   "metadata": {},
   "outputs": [
    {
     "data": {
      "text/plain": [
       "4997"
      ]
     },
     "execution_count": 18,
     "metadata": {},
     "output_type": "execute_result"
    }
   ],
   "source": [
    "idx"
   ]
  },
  {
   "cell_type": "code",
   "execution_count": 19,
   "id": "291ad60f-d83d-4a6f-8f01-108135aa0627",
   "metadata": {},
   "outputs": [
    {
     "data": {
      "text/plain": [
       "-62"
      ]
     },
     "execution_count": 19,
     "metadata": {},
     "output_type": "execute_result"
    }
   ],
   "source": [
    "4935 - idx"
   ]
  },
  {
   "cell_type": "code",
   "execution_count": 20,
   "id": "d7191d59-b080-486e-8297-681ccf604ddc",
   "metadata": {},
   "outputs": [
    {
     "data": {
      "text/plain": [
       "62"
      ]
     },
     "execution_count": 20,
     "metadata": {},
     "output_type": "execute_result"
    }
   ],
   "source": [
    "62"
   ]
  },
  {
   "cell_type": "code",
   "execution_count": 21,
   "id": "1309f8b6-2f37-489a-b81a-a21ef98e68ed",
   "metadata": {},
   "outputs": [],
   "source": [
    "os.remove('./like/')"
   ]
  },
  {
   "cell_type": "code",
   "execution_count": 35,
   "id": "aef1b95e-65e6-4ead-b389-6a1cee1a28dd",
   "metadata": {},
   "outputs": [
    {
     "data": {
      "text/plain": [
       "4936"
      ]
     },
     "execution_count": 35,
     "metadata": {},
     "output_type": "execute_result"
    }
   ],
   "source": [
    "len(os.listdir('./like/'))"
   ]
  },
  {
   "cell_type": "code",
   "execution_count": 36,
   "id": "e27ff714-9b2f-4b4f-9ba4-52ce97f66b4b",
   "metadata": {},
   "outputs": [
    {
     "data": {
      "text/plain": [
       "4936"
      ]
     },
     "execution_count": 36,
     "metadata": {},
     "output_type": "execute_result"
    }
   ],
   "source": [
    "len(os.listdir('./no_like/'))"
   ]
  },
  {
   "cell_type": "code",
   "execution_count": 25,
   "id": "4da7b3c3-bc37-488c-b88a-228f28017b4b",
   "metadata": {},
   "outputs": [
    {
     "data": {
      "text/plain": [
       "62"
      ]
     },
     "execution_count": 25,
     "metadata": {},
     "output_type": "execute_result"
    }
   ],
   "source": [
    "4998-4936"
   ]
  },
  {
   "cell_type": "code",
   "execution_count": 32,
   "id": "f4294df4-7a54-4869-888f-f1a37a6f393c",
   "metadata": {},
   "outputs": [],
   "source": [
    "files = os.listdir('./like/')[:62]"
   ]
  },
  {
   "cell_type": "code",
   "execution_count": 34,
   "id": "f00ef3ae-9f85-41f7-8e4a-30227b11cd9e",
   "metadata": {},
   "outputs": [],
   "source": [
    "for file in files:\n",
    "    os.remove('./like/' + file)"
   ]
  },
  {
   "cell_type": "code",
   "execution_count": null,
   "id": "28edc1ec-2038-4734-99a5-a6b64ec6ec42",
   "metadata": {},
   "outputs": [],
   "source": []
  }
 ],
 "metadata": {
  "kernelspec": {
   "display_name": "Python 3.7.3 64-bit ('base': conda)",
   "language": "python",
   "name": "python373jvsc74a57bd0210f9608a45c0278a93c9e0b10db32a427986ab48cfc0d20c139811eb78c4bbc"
  },
  "language_info": {
   "codemirror_mode": {
    "name": "ipython",
    "version": 3
   },
   "file_extension": ".py",
   "mimetype": "text/x-python",
   "name": "python",
   "nbconvert_exporter": "python",
   "pygments_lexer": "ipython3",
   "version": "3.7.7"
  }
 },
 "nbformat": 4,
 "nbformat_minor": 5
}
